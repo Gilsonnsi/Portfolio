{
  "metadata": {
    "latex_envs": {
      "LaTeX_envs_menu_present": true,
      "autoclose": false,
      "autocomplete": true,
      "bibliofile": "biblio.bib",
      "cite_by": "apalike",
      "current_citInitial": 1,
      "eqLabelWithNumbers": true,
      "eqNumInitial": 1,
      "hotkeys": {
        "equation": "Ctrl-E",
        "itemize": "Ctrl-I"
      },
      "labels_anchors": false,
      "latex_user_defs": false,
      "report_style_numbering": false,
      "user_envs_cfg": false
    },
    "kernelspec": {
      "name": "python",
      "display_name": "Python (Pyodide)",
      "language": "python"
    },
    "language_info": {
      "codemirror_mode": {
        "name": "python",
        "version": 3
      },
      "file_extension": ".py",
      "mimetype": "text/x-python",
      "name": "python",
      "nbconvert_exporter": "python",
      "pygments_lexer": "ipython3",
      "version": "3.8"
    }
  },
  "nbformat_minor": 4,
  "nbformat": 4,
  "cells": [
    {
      "cell_type": "markdown",
      "source": "# <center> Santa Claus needs you!</center>\n<center> SAE 1.01 / 2023 - 24 </center>\n\n",
      "metadata": {}
    },
    {
      "cell_type": "markdown",
      "source": "**Attendus**\n\nLes attendus de cette SAE sont que vous appreniez à \n- respecter un cahier des charges ;\n- écrire un code de qualité : efficace, lisible, documenté et testé sauf quand il s'agit d'affichages, de saisies ou de tirages aléatoires ;\n - travailler en groupe sur un projet : cette SAE est à faire en **binôme**. Vous devez néanmoins comprendre et connaître la totalité de ce qui est produit par le binôme.\n\n\n**Calendrier**\n- Le projet est à rendre au plus tard le vendredi **10 novembre** 2023. Les modalités de rendu vous seront précisées par votre enseignant.\n- Un contrôle de 2h en lien avec le contenu de cette SAE aura lieu le vendredi **10 novembre** 2023.\n\n**Evaluation**\n- Le projet comptera pour 40% de la note de SAE 1.01. <BR>\nIl sera particulièrement tenu compte de la qualité du code, des **commentaires** et **docstrings**, des fonctions de **tests unitaires** pour les fonctions renvoyant des résultats. <BR><BR>\n    \n- Le contrôle compte pour 60% de la note finale.",
      "metadata": {
        "deletable": false,
        "editable": false
      }
    },
    {
      "cell_type": "markdown",
      "source": "## <center> Sujet </center>\n\nLe Père Noël se fait vieux, il a besoin d'aider pour organiser sa distribution de cadeaux. Il vous prend à l'essai...\n\nL'objectif est de chercher une tournée des villes minimisant la distance parcourue par les rennes du Père Noël.",
      "metadata": {
        "deletable": false,
        "editable": false
      }
    },
    {
      "cell_type": "markdown",
      "source": "On décide de stocker les données sur les villes à visiter dans un tableau `villes` de chaînes de caractères et de flottants contenant successivement une ville (sous forme d'une chaîne de caractères), sa longitude et sa latitude (des flottants) en dégrés décimaux (DD) de sorte que `villes[3*i]` a pour longitude  `villes[3*i+1]` et pour latitude `villes[3*i+2]`.\n\nOn suppose que chaque ville n'est présente qu'une seule fois dans le tableau.\n\n**Exemple** : ",
      "metadata": {
        "deletable": false,
        "editable": false
      }
    },
    {
      "cell_type": "code",
      "source": "villes = [\"Paris\",2.33,48.86, \"Lyon\",4.85,45.75, \n          \"Marseille\", 5.40,43.30, \"Lille\",3.06,50.63, \n          \"Strasbourg\",7.75,48.57, \"Rennes\",-1.66,48.11, \n          \"Clermont-Ferrand\",3.08,45.77, \"Bordeaux\", -0.57, 44.83]",
      "metadata": {
        "deletable": false,
        "editable": false,
        "scrolled": true,
        "trusted": true
      },
      "execution_count": 58,
      "outputs": []
    },
    {
      "cell_type": "markdown",
      "source": "Ainsi\n- Paris a une longitude de 2,33 DD et une latitude de 48,86 DD.\n- Rennes a une longitude de -1,66 DD et une latitude de 48,11 DD.",
      "metadata": {
        "deletable": false,
        "editable": false
      }
    },
    {
      "cell_type": "markdown",
      "source": "#### Question préliminaire : Représentation des villes par un tableau\n\n- Ajouter dans le tableau précédent Toulouse dont la longitude est 1,43 DD et la latitude est 43,60 DD, ainsi que Grenoble dont la longitude est 5,72 DD et la latitude est 45,18 DD.",
      "metadata": {
        "deletable": false,
        "editable": false
      }
    },
    {
      "cell_type": "code",
      "source": "#-------------------------#\n#    Écrire le code ici   #\n#-------------------------#\nvilles.append(\"Toulouse\")\nvilles.append(1.43)\nvilles.append(43.60)\n\nvilles.append(\"Grenoble\")\nvilles.append(5.72)\nvilles.append(45.18)\n\nprint(villes)\n\n# ou : villes.extend([\"Toulouse\", 1.43, 43.60])\n# villes.extend([\"Grenoble\", 5.72, 45.18])\n",
      "metadata": {
        "scrolled": true,
        "trusted": true
      },
      "execution_count": 59,
      "outputs": [
        {
          "name": "stdout",
          "text": "['Paris', 2.33, 48.86, 'Lyon', 4.85, 45.75, 'Marseille', 5.4, 43.3, 'Lille', 3.06, 50.63, 'Strasbourg', 7.75, 48.57, 'Rennes', -1.66, 48.11, 'Clermont-Ferrand', 3.08, 45.77, 'Bordeaux', -0.57, 44.83, 'Toulouse', 1.43, 43.6, 'Grenoble', 5.72, 45.18]\n",
          "output_type": "stream"
        }
      ]
    },
    {
      "cell_type": "markdown",
      "source": "#### Question 1 : Nombre de villes à visiter\n\n- Étant donné un tableau `villes`, écrire une fonction `nb_villes(villes)` qui retourne le nombre de villes à visiter contenues dans le tableau `villes`. \n- Ecrire une fonction de tests unitaires permettant de vérifier cette fonction. ",
      "metadata": {
        "deletable": false,
        "editable": false
      }
    },
    {
      "cell_type": "code",
      "source": "#-------------------------#\n#    Écrire le code ici   #\n#-------------------------#\ndef nb_villes(villes):\n    return len(villes)/3\n\ndef test_nb_villes():\n    assert nb_villes(villes) == 10\n    assert nb_villes([]) == 0\n    print(\"OK\")\n\ntest_nb_villes()\n",
      "metadata": {
        "scrolled": true,
        "trusted": true
      },
      "execution_count": 60,
      "outputs": [
        {
          "name": "stdout",
          "text": "OK\n",
          "output_type": "stream"
        }
      ]
    },
    {
      "cell_type": "markdown",
      "source": "#### Question 2 : Tableaux des noms de villes à visiter\n\n- Étant donné un tableau `villes`, écrire une fonction `noms_villes(villes)` qui retourne le tableau des noms des villes à visiter contenues dans le tableau `villes`. \n- Ecrire une fonction de tests unitaires permettant de vérifier cette fonction. ",
      "metadata": {
        "deletable": false,
        "editable": false
      }
    },
    {
      "cell_type": "code",
      "source": "#-------------------------#\n#    Écrire le code ici   #\n#-------------------------#\ndef noms_villes(villes):\n    tab = []\n    i = 0\n    while i < nb_villes(villes):\n        tab.append(villes[i*3])\n        i += 1\n    return tab\n\nprint(noms_villes(villes))\n                       \ndef test_noms_villes():\n    assert noms_villes(villes) == ['Paris', 'Lyon', 'Marseille', 'Lille', 'Strasbourg', 'Rennes', 'Clermont-Ferrand', 'Bordeaux', 'Toulouse', 'Grenoble']\n    print(\"Ok\")\n\ntest_noms_villes()\n\n",
      "metadata": {
        "scrolled": true,
        "trusted": true
      },
      "execution_count": 61,
      "outputs": [
        {
          "name": "stdout",
          "text": "['Paris', 'Lyon', 'Marseille', 'Lille', 'Strasbourg', 'Rennes', 'Clermont-Ferrand', 'Bordeaux', 'Toulouse', 'Grenoble']\nOk\n",
          "output_type": "stream"
        }
      ]
    },
    {
      "cell_type": "markdown",
      "source": "#### Question 3 : Distance entre deux villes repérées par leurs longitude et latitude\n\nPour calculer la distance $d$ entre deux villes $V_1$ (de longitude $long1$ et de latitude $lat1$) et $V_2$ (de longitude $long2$ et de latitude $lat2$) à partir de leurs longitude et latitude, on peut utiliser la formule suivante :\n\n$d=R*arccos(sin(lat1)*sin(lat2)+cos(lat1)*cos(lat2)*cos(long2-long1))$\n\noù le rayon de la terre $R$ vaut 6370.7km et les latitudes et longitudes sont exprimées en radians (en non en degrés décimaux).\nCela correspond à la méthode de calcul avec la loi des sinus décrite [ici](http://villemin.gerard.free.fr/aGeograp/Distance.htm) \n\nPar exemple, Paris et Marseille sont distantes de 661,86 km.\n\n- Ecrire une fonction `distance(long1,lat1,long2,lat2)` qui calcule et retourne la distance entre deux villes $V_1$ (de longitude `long1` et `lat1`) et $V_2$ (de `long2`et `lat2`).\n\n**NB** Les fonctions `sin`, `cos` et le nombre `pi` sont définis dans la bibliothèque `math`. La fonction `arccos` est définie dans la bibliothèque `numpy`.\n\nPour **convertir des degrés en radians**, il faut multiplier par $\\pi/180$.\n\n\n- Ecrire une fonction de tests unitaire permettant de vérifier cette fonction.",
      "metadata": {
        "deletable": false,
        "editable": false,
        "run_control": {
          "frozen": true
        }
      }
    },
    {
      "cell_type": "code",
      "source": "#-------------------------#\n#    Écrire le code ici   #\n#-------------------------#\nimport math, numpy\n\ndef distance(long1,lat1,long2,lat2):\n    R = 6370.7\n    lat1 = lat1*math.pi/180\n    lat2 = lat2*math.pi/180\n    long1 = long1*math.pi/180\n    long2 = long2*math.pi/180\n    distance = R * numpy.arccos(math.sin(lat1)*math.sin(lat2)+math.cos(lat1)*math.cos(lat2)*math.cos(long2-long1))\n    return distance\n\ndef test_distance():\n    assert distance(2.33, 48.86,5.4, 43.3) == 661.8616554466715  # distance Paris Mareille\n    print(\"OK\")\n        \ntest_distance()\n    ",
      "metadata": {
        "scrolled": true,
        "trusted": true
      },
      "execution_count": 62,
      "outputs": [
        {
          "name": "stdout",
          "text": "OK\n",
          "output_type": "stream"
        }
      ]
    },
    {
      "cell_type": "markdown",
      "source": "#### Question 4 : Coordonnées d'une ville dans le tableau `villes`\n\na) Ecrire une fonction `indexCity(ville, villes)` qui retourne la position (l'indice) de la `ville` passée en paramètre dans le tableau `villes`. Elle retournera `-1` si la ville passée en paramètre n'est pas dans le tableau. Cette information pourra être utilisée dans la suite pour trouver la longitude et la latitude d'une ville donnée par son nom.\n\nPar exemple, \n- l'instruction `indexCity(\"Paris\", villes)` retournera `0`,\n- l'instruction `indexCity(\"Clermont-Ferrand\",villes)` retournera  `18`,\n- et l'instruction `indexCity(\"Villetaneuse\",villes)` retournera  `-1`.\n\nb) Ecrire une fonction de tests unitaire permettant de vérifier cette fonction.",
      "metadata": {
        "deletable": false,
        "editable": false
      }
    },
    {
      "cell_type": "code",
      "source": "#-------------------------#\n#    Écrire le code ici   #\n#-------------------------#\ndef indexCity(ville, villes):\n    i = 0\n    while i < nb_villes(villes):\n        if villes[i*3] == ville:\n            return i*3\n        i += 1\n    return -1 # au cas ou il n'y a pas la ville\n\ndef test_indexCity():\n    assert indexCity(\"Paris\", villes) == 0\n    assert indexCity(\"Marseille\", villes) == 6\n    assert indexCity(\"blabla\", villes) == -1\n    print(\"OK\")\n\ntest_indexCity()\n    ",
      "metadata": {
        "scrolled": true,
        "trusted": true
      },
      "execution_count": 63,
      "outputs": [
        {
          "name": "stdout",
          "text": "OK\n",
          "output_type": "stream"
        }
      ]
    },
    {
      "cell_type": "markdown",
      "source": "#### Question 5 : Distance entre deux villes données par leurs noms\n\n- Ecrire une fonction `distance_noms(nom1,nom2, villes)` qui calcule et retourne la distance entre deux villes $V_1$ et $V_2$ appelées `nom1` et `nom2` dans le tableau `villes`. La fonction retournera `-1` si une de ces villes n'est pas dans le tableau.\n- Ecrire une fonction de tests unitaires permettant de vérifier cette fonction.",
      "metadata": {
        "deletable": false,
        "editable": false
      }
    },
    {
      "cell_type": "code",
      "source": "#-------------------------#\n#    Écrire le code ici   #\n#-------------------------#\ndef distances_noms(nom1, nom2, villes):\n    index1 = indexCity(nom1, villes)\n    index2 = indexCity(nom2, villes)\n    if (index1 == -1 or index2 == -1):\n        return -1\n    dist = distance(villes[index1+1], villes[index1+2], villes[index2+1], villes[index2+2])\n    return dist\n\ndef test_dist_noms():\n    assert distances_noms(\"Paris\", \"Marseille\", villes) == 661.8616554466715\n    print(\"OK\")\n\ntest_dist_noms()\n\n",
      "metadata": {
        "scrolled": true,
        "trusted": true
      },
      "execution_count": 64,
      "outputs": [
        {
          "name": "stdout",
          "text": "OK\n",
          "output_type": "stream"
        }
      ]
    },
    {
      "cell_type": "markdown",
      "source": "#### Question 6 :  Lecture des villes d'une tournée à partir d'un fichier\nOn suppose que les données sur les villes où doit se rendre le Père Noël réseau sont stockées dans un fichier CSV de la manière suivante :\n```\nville1;longitude1;latitude1\nville2;longitude2;latitude2\nville3;longitude3;latitude3\n...\n```\nAutrement dit, chaque ligne du fichier contient le nom d'une ville, sa longitude et sa latitude en degrés décimaux, ces données étant séparées par des `';'`. Ces villes sont celles que le Père Noël doit desservir\n\n**NB** : Six fichiers CSV de ce type sont fournis dans le répertoire `files/`, il s'agit des fichiers `africa.csv`, `asia.csv`,`europe.csv`, `north-america`, `oceania.csv` and `south-america.csv`. \nIl est recommandé d'en fabriquer d'autres. \n\n- Ecrire une fonction `lecture_villes(path)` prenant en paramètre un chemin vers un tel fichier CSV et retournant un tableau contenant les informations sur les villes à visiter.",
      "metadata": {
        "deletable": false,
        "editable": false
      }
    },
    {
      "cell_type": "code",
      "source": "#-------------------------#\n#    Écrire le code ici   #\n#-------------------------#\ndef lecture_ville(path):\n    tab = []\n    file = open(path, \"r\")\n    villes = file.read()\n    tab = villes.split(\";\")\n    file.close()\n    return tab\n\n\n",
      "metadata": {
        "scrolled": true,
        "trusted": true
      },
      "execution_count": 65,
      "outputs": []
    },
    {
      "cell_type": "markdown",
      "source": "#### Question 7 : Longueur d'une tournée\n\nOn considère que le Père Noël peut partir de n'importe laquelle des villes qu'il doit visiter et qu'il doit revenir à son point de départ à la fin de la tournée. Lors de sa tournée, il doit visiter chacune des villes dont les informations sont contenues dans le tableau `villes` une fois et une seule. \n\nOn représente une tournée possible sous la forme d'un tableau `tournee` contenant le nom des villes dans l'ordre où le Père Noël les visitera sans oublier de revenir à la ville dont il est parti. \n\nL'objectif est de calculer la longueur d'une tournée. \n\n- Ecrire une fonction `long_tour(villes, tournee)` qui prend en paramètres le tableau `villes` contenant les informations sur les villes à visiter et le tableau `tournee` indiquant l'ordre dans lequel les villes sont visitées. La fonction retourne la longueur de la tournée correspondante.\n\n- Ecrire une fonction de tests unitaires permettant de vérifier cette fonction.",
      "metadata": {
        "deletable": false,
        "editable": false
      }
    },
    {
      "cell_type": "code",
      "source": "#-------------------------#\n#    Écrire le code ici   #\n#-------------------------#\ndef long_tour(villes, tournee):\n    longueur = 0\n    i = 1\n    ville_actuel = tournee[0]\n    while i < len(tournee):\n        longueur += distances_noms(ville_actuel, tournee[i], villes)\n        ville_actuel = tournee[i]\n        i += 1\n    longueur += distances_noms(ville_actuel, tournee[0], villes)\n    return longueur\n\n\ndef test_long():\n    assert long_tour(villes, [\"Paris\", \"Marseille\"]) == 1323.723310893343 # Distance : Paris - Marseille - Paris\n    print(\"OK\")\n\ntest_long()",
      "metadata": {
        "trusted": true
      },
      "execution_count": 66,
      "outputs": [
        {
          "name": "stdout",
          "text": "OK\n",
          "output_type": "stream"
        }
      ]
    },
    {
      "cell_type": "markdown",
      "source": "#### Question 8 : Recherche d'une plus courte tournée \n\nPour améliorer la longueur de la tournée, on peut essayer de changer l'ordre des villes aléatoirement. Pour une tournée donnée par un tableau `tournee` cela peut se faire avec la fonction `shuffle` de la bibliothèque `random` qui mélange aléatoirement les villes qui sont dans le tableau `tournee`, grâce à l'instruction  `shuffle(tournee)`, et ne retourne rien.\n\n- Utiliser cette fonction pour écrire un programme qui cherche une tournée plus courte à proposer au Père Noël. \n- Comment la solution s'améliore-t-elle en fonction de nombre de tentatives de mélange ? ",
      "metadata": {
        "deletable": false,
        "editable": false
      }
    },
    {
      "cell_type": "code",
      "source": "#-------------------------#\n#    Écrire le code ici   #\n#-------------------------#\nimport random\n\ndef long_courte(villes, tournee, tentative):\n    courte = long_tour(villes, tournee)\n    long = 0\n    i = 0\n    while i < tentative:\n        random.shuffle(tournee)\n        long = long_tour(villes, tournee)\n        if (long < courte):\n            courte = long\n        i += 1\n    return courte\n\n\nprint(noms_villes(villes))\nprint(long_courte(villes, noms_villes(villes), 1))\nprint(long_courte(villes, noms_villes(villes), 10))\nprint(long_courte(villes, noms_villes(villes), 100))\nprint(long_courte(villes, noms_villes(villes), 1000))\nprint(long_courte(villes, noms_villes(villes), 10000))\n\n\"\"\"\nPlus on augmente le nombre de tentative plus on a une longueur petite\n\"\"\"\n",
      "metadata": {
        "scrolled": true,
        "trusted": true
      },
      "execution_count": 76,
      "outputs": [
        {
          "name": "stdout",
          "text": "['Paris', 'Lyon', 'Marseille', 'Lille', 'Strasbourg', 'Rennes', 'Clermont-Ferrand', 'Bordeaux', 'Toulouse', 'Grenoble']\n4258.1887869294505\n4146.747014230537\n3380.139817484682\n3359.6632016077974\n2806.8757117523387\n",
          "output_type": "stream"
        },
        {
          "execution_count": 76,
          "output_type": "execute_result",
          "data": {
            "text/plain": "'\\nPlus on augmente le nombre de tentative plus on a une longueur petite\\n'"
          },
          "metadata": {}
        }
      ]
    },
    {
      "cell_type": "markdown",
      "source": "#### Question Bonus (facultative) : Visualisation de la tournée proposée au Père Noël \n\nPour faciliter le travail du Père Noël, vous décidez de lui fournir une carte où est représentée la tournée sélectionnée. \n\nPour cela, on peut (mais ce ne n'est qu'une suggestion) utiliser la bibliothèque [`folium`](https://python-visualization.github.io/folium/latest/getting_started.html). Vous pouvez également utiliser tout autre bibliothèque de votre choix.\n\n- Ecrire un programme permettant la visualisation de la tournée proposée au Père Noël",
      "metadata": {}
    },
    {
      "cell_type": "code",
      "source": "#-------------------------#\n#    Écrire le code ici   #\n#-------------------------#\n\n\n\n\n\n",
      "metadata": {
        "scrolled": true
      },
      "execution_count": null,
      "outputs": []
    }
  ]
}